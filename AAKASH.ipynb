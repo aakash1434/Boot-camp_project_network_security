{
  "nbformat": 4,
  "nbformat_minor": 0,
  "metadata": {
    "colab": {
      "name": "AAKASH.ipynb",
      "provenance": []
    },
    "kernelspec": {
      "name": "python3",
      "display_name": "Python 3"
    },
    "language_info": {
      "name": "python"
    }
  },
  "cells": [
    {
      "cell_type": "code",
      "metadata": {
        "id": "DGfRjP34AbAx"
      },
      "source": [
        "import hashlib\n",
        "import binascii"
      ],
      "execution_count": 1,
      "outputs": []
    },
    {
      "cell_type": "markdown",
      "metadata": {
        "id": "rbSL0E7hJlLN"
      },
      "source": [
        "we should find how many algorithm present in Hashlib"
      ]
    },
    {
      "cell_type": "code",
      "metadata": {
        "colab": {
          "base_uri": "https://localhost:8080/"
        },
        "id": "GmgeRWnK2Rrn",
        "outputId": "a3d72a5e-6eb6-4969-be11-63e89b8ad8d3"
      },
      "source": [
        "print(hashlib.algorithms_available)"
      ],
      "execution_count": 2,
      "outputs": [
        {
          "output_type": "stream",
          "text": [
            "{'sha256', 'sha224', 'sha384', 'sha512', 'md5', 'sha3_224', 'sha3_384', 'sha3_512', 'shake_256', 'shake_128', 'sha1', 'blake2s', 'blake2b', 'sha3_256'}\n"
          ],
          "name": "stdout"
        }
      ]
    },
    {
      "cell_type": "markdown",
      "metadata": {
        "id": "I7zrcZsqJqJo"
      },
      "source": [
        "Let us Get the string from user and encrypt it by md5 algorithm"
      ]
    },
    {
      "cell_type": "code",
      "metadata": {
        "colab": {
          "base_uri": "https://localhost:8080/"
        },
        "id": "OM3kprQh0yos",
        "outputId": "8763c077-55c0-4c76-d816-5183f622cfee"
      },
      "source": [
        "b=input()\n",
        "hashing=hashlib.md5(b.encode())\n",
        "print(hashing.hexdigest())"
      ],
      "execution_count": 3,
      "outputs": [
        {
          "output_type": "stream",
          "text": [
            "aakash\n",
            "a870c4012ce2eaa3b60a4c59cb786f76\n"
          ],
          "name": "stdout"
        }
      ]
    },
    {
      "cell_type": "markdown",
      "metadata": {
        "id": "YO0wSLIDJ_ET"
      },
      "source": [
        "Get the string from user and encrypt it by shake_256 algorithm"
      ]
    },
    {
      "cell_type": "code",
      "metadata": {
        "colab": {
          "base_uri": "https://localhost:8080/"
        },
        "id": "wE5yQcSA2csr",
        "outputId": "532049b2-b1ce-4de5-da4e-2acfdf65ee30"
      },
      "source": [
        "\n",
        "hashing=hashlib.shake_256(b.encode())\n",
        "print(hashing.digest(10))"
      ],
      "execution_count": 4,
      "outputs": [
        {
          "output_type": "stream",
          "text": [
            "b'_\\xe9\\x00\\x0f\\x925p\\xec\\xcfo'\n"
          ],
          "name": "stdout"
        }
      ]
    },
    {
      "cell_type": "markdown",
      "metadata": {
        "id": "iV9wDHL5LZKb"
      },
      "source": [
        "Get the string from user and encrypt it by shake_128 algorithm\n",
        "\n"
      ]
    },
    {
      "cell_type": "code",
      "metadata": {
        "colab": {
          "base_uri": "https://localhost:8080/"
        },
        "id": "lG_E4nH0JhGo",
        "outputId": "82b63b05-4a2b-44f5-d3b0-a011b19c6437"
      },
      "source": [
        "hashing=hashlib.shake_128(b.encode())\n",
        "print(hashing.digest(10))"
      ],
      "execution_count": 5,
      "outputs": [
        {
          "output_type": "stream",
          "text": [
            "b'f\\xe4\\x82\\x7f\\xf6n\\xf9h\\x99p'\n"
          ],
          "name": "stdout"
        }
      ]
    },
    {
      "cell_type": "markdown",
      "metadata": {
        "id": "V9VW9Dl6L7-U"
      },
      "source": [
        "Get the string from user and encrypt it by sha1 algorithm"
      ]
    },
    {
      "cell_type": "code",
      "metadata": {
        "colab": {
          "base_uri": "https://localhost:8080/"
        },
        "id": "e7UoRyiHLgYs",
        "outputId": "873b9898-7efb-4be0-8db6-bae0486ddcf5"
      },
      "source": [
        "hashing=hashlib.sha1(b.encode())\n",
        "print(hashing.hexdigest())"
      ],
      "execution_count": 6,
      "outputs": [
        {
          "output_type": "stream",
          "text": [
            "f4c948593ed3703a9c9b42235e150d85c8a1e156\n"
          ],
          "name": "stdout"
        }
      ]
    },
    {
      "cell_type": "markdown",
      "metadata": {
        "id": "pHo5NBSkb0el"
      },
      "source": [
        "Get the string from user and encrypt it by sha3_224 algorithm"
      ]
    },
    {
      "cell_type": "code",
      "metadata": {
        "colab": {
          "base_uri": "https://localhost:8080/"
        },
        "id": "PLjdjh3_-GR2",
        "outputId": "7631321c-56b8-40af-99d2-ab832ae929f5"
      },
      "source": [
        "hashing=hashlib.sha3_224(b.encode())\n",
        "print(hashing.hexdigest())"
      ],
      "execution_count": 7,
      "outputs": [
        {
          "output_type": "stream",
          "text": [
            "d8d803c0fb488836f25aa4d461604c2eeec8df4f588060a95245af00\n"
          ],
          "name": "stdout"
        }
      ]
    },
    {
      "cell_type": "markdown",
      "metadata": {
        "id": "3daDLzVsMMzw"
      },
      "source": [
        "Get the string from user and encrypt it by sha3_512 algorithm"
      ]
    },
    {
      "cell_type": "code",
      "metadata": {
        "colab": {
          "base_uri": "https://localhost:8080/"
        },
        "id": "X8gsjQlcb7pe",
        "outputId": "b029fcbf-8a07-4e50-a4f1-da7a9dc0c0a4"
      },
      "source": [
        "hashing=hashlib.sha3_512(b.encode())\n",
        "print(hashing.hexdigest())"
      ],
      "execution_count": 8,
      "outputs": [
        {
          "output_type": "stream",
          "text": [
            "ca97005933193d1685d4ebc3d1c4a9c21b07396f7f91533a9bbc8ddbf156d603c812c0589639930e6405e5293cb9569921dd74425e4cc49f9b664b7e82d82efd\n"
          ],
          "name": "stdout"
        }
      ]
    },
    {
      "cell_type": "markdown",
      "metadata": {
        "id": "5EZSABJ-crOT"
      },
      "source": [
        "Get the string from user and encrypt it by blake2b algorithm"
      ]
    },
    {
      "cell_type": "code",
      "metadata": {
        "colab": {
          "base_uri": "https://localhost:8080/"
        },
        "id": "oKpUxvR4c3BD",
        "outputId": "95c0da1f-4774-4655-bed7-01c14cbf3994"
      },
      "source": [
        "hashing=hashlib.blake2b(b.encode())\n",
        "print(hashing.hexdigest())"
      ],
      "execution_count": 9,
      "outputs": [
        {
          "output_type": "stream",
          "text": [
            "33294af17bc0cacd810901d8db16e9311f0b0333a5da55c85cff3167dbf3b9d468a8e25386c13f14a5f8b799707e1c8451a896fd1d9994dce49e35b030d43e66\n"
          ],
          "name": "stdout"
        }
      ]
    },
    {
      "cell_type": "markdown",
      "metadata": {
        "id": "Mc_eKPkFdPPC"
      },
      "source": [
        "Get the string from user and encrypt it by sha512 algorithm"
      ]
    },
    {
      "cell_type": "code",
      "metadata": {
        "colab": {
          "base_uri": "https://localhost:8080/"
        },
        "id": "PDIRa79cdpOO",
        "outputId": "3f794018-bc9a-4bda-b674-b3cf460b34bc"
      },
      "source": [
        "hashing=hashlib.sha512(b.encode())\n",
        "print(hashing.hexdigest())"
      ],
      "execution_count": 10,
      "outputs": [
        {
          "output_type": "stream",
          "text": [
            "2ac4fd7c5cde95b95201ef4bd4db773ba50951333e5e34197e5bc3c44fbce5aa4de94b3d50423e5d822b0402b3858b746f4d8497cbbc112709251820da2ce103\n"
          ],
          "name": "stdout"
        }
      ]
    },
    {
      "cell_type": "markdown",
      "metadata": {
        "id": "Gb4m8cYldu8Z"
      },
      "source": [
        "Get the string from user and encrypt it by sha256 algorithm"
      ]
    },
    {
      "cell_type": "code",
      "metadata": {
        "colab": {
          "base_uri": "https://localhost:8080/"
        },
        "id": "RHi_nrsmeThC",
        "outputId": "4885ac50-c94e-484f-c892-e10ec039b4f1"
      },
      "source": [
        "hashing=hashlib.sha256(b.encode())\n",
        "print(hashing.hexdigest())"
      ],
      "execution_count": 11,
      "outputs": [
        {
          "output_type": "stream",
          "text": [
            "9d1de997f3a8e71c69d9d11a6911921290b7c76f544222d4ff446f24913a7a2f\n"
          ],
          "name": "stdout"
        }
      ]
    },
    {
      "cell_type": "markdown",
      "metadata": {
        "id": "kmU-tOXaebB0"
      },
      "source": [
        "Get the string from user and encrypt it by sha224 algorithm"
      ]
    },
    {
      "cell_type": "code",
      "metadata": {
        "colab": {
          "base_uri": "https://localhost:8080/"
        },
        "id": "-goE4RjfefDw",
        "outputId": "2bcbaa82-37d8-40d9-be53-ad71006dcfe2"
      },
      "source": [
        "hashing=hashlib.sha224(b.encode())\n",
        "print(hashing.hexdigest())"
      ],
      "execution_count": 12,
      "outputs": [
        {
          "output_type": "stream",
          "text": [
            "74ef9f2d528fd02fa9c2fd2d72775886f94658b190629f405761c162\n"
          ],
          "name": "stdout"
        }
      ]
    },
    {
      "cell_type": "markdown",
      "metadata": {
        "id": "YvkcLrhNfGy6"
      },
      "source": [
        "Get the string from user and encrypt it by sha384 algorithm"
      ]
    },
    {
      "cell_type": "code",
      "metadata": {
        "colab": {
          "base_uri": "https://localhost:8080/"
        },
        "id": "qz0VovzsfRDv",
        "outputId": "256b1d8f-aa1a-4094-edc5-aa9291083862"
      },
      "source": [
        "hashing=hashlib.sha384(b.encode())\n",
        "print(hashing.hexdigest())"
      ],
      "execution_count": 13,
      "outputs": [
        {
          "output_type": "stream",
          "text": [
            "d796780181cc5818da5423250e13148a27ad85d50337346a4447d9e416f7f550572c27526d10c241184ea2982ad08ef7\n"
          ],
          "name": "stdout"
        }
      ]
    },
    {
      "cell_type": "markdown",
      "metadata": {
        "id": "cpCXnWZBfgys"
      },
      "source": [
        "Get the string from user and encrypt it by sha3_384 algorithm"
      ]
    },
    {
      "cell_type": "code",
      "metadata": {
        "colab": {
          "base_uri": "https://localhost:8080/"
        },
        "id": "w74SBYhCfvS_",
        "outputId": "3e271d06-d9fa-4b42-984c-2d59f8d66f63"
      },
      "source": [
        "hashing=hashlib.sha3_384(b.encode())\n",
        "print(hashing.hexdigest())"
      ],
      "execution_count": 14,
      "outputs": [
        {
          "output_type": "stream",
          "text": [
            "44a1196f6b25cee0dbc2ed98e1364d76f9e446dfb8573f1cee1dc96ec85207def39bb538b5aa1490bb9bb92c61e73b27\n"
          ],
          "name": "stdout"
        }
      ]
    },
    {
      "cell_type": "markdown",
      "metadata": {
        "id": "kxga2SWjgBDt"
      },
      "source": [
        "SALTING:"
      ]
    },
    {
      "cell_type": "markdown",
      "metadata": {
        "id": "a0BbMYUbhP4Y"
      },
      "source": [
        "md5 Salting"
      ]
    },
    {
      "cell_type": "code",
      "metadata": {
        "colab": {
          "base_uri": "https://localhost:8080/"
        },
        "id": "Ie8vPLzFXUYI",
        "outputId": "599d1f8f-9ce3-48b6-981a-034390ec21db"
      },
      "source": [
        "dk = hashlib.pbkdf2_hmac(\"md5\",b\"hello\",b\"123\",10)\n",
        "print(binascii.hexlify(dk))"
      ],
      "execution_count": 15,
      "outputs": [
        {
          "output_type": "stream",
          "text": [
            "b'b3178a2382b17677877ed69731934a8d'\n"
          ],
          "name": "stdout"
        }
      ]
    },
    {
      "cell_type": "markdown",
      "metadata": {
        "id": "8FezrlC-hTQJ"
      },
      "source": [
        "sha1 Salting"
      ]
    },
    {
      "cell_type": "code",
      "metadata": {
        "colab": {
          "base_uri": "https://localhost:8080/"
        },
        "id": "cdD2zJqPhKj4",
        "outputId": "c90b1483-81f6-43dd-9f5c-8d7d3c883a27"
      },
      "source": [
        "dk = hashlib.pbkdf2_hmac(\"sha1\",b\"hello\",b\"123\",10)\n",
        "print(binascii.hexlify(dk))"
      ],
      "execution_count": 16,
      "outputs": [
        {
          "output_type": "stream",
          "text": [
            "b'c8f7116a0b36e9075a98cf3b07d42fa0bf0b2563'\n"
          ],
          "name": "stdout"
        }
      ]
    }
  ]
}